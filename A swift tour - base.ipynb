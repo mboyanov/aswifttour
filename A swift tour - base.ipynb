{
 "cells": [
  {
   "cell_type": "code",
   "execution_count": 1,
   "metadata": {},
   "outputs": [
    {
     "name": "stdout",
     "output_type": "stream",
     "text": [
      "Installing packages:\n",
      "\t.package(url: \"https://github.com/mxcl/Path.swift\", from: \"0.16.1\")\n",
      "\t\tPath\n",
      "With SwiftPM flags: []\n",
      "Working in: /tmp/tmp_gh0cyox/swift-install\n",
      "/home/martin/swift/usr/bin/swift-build: /home/martin/anaconda3/envs/swift/lib/libuuid.so.1: no version information available (required by /home/martin/swift/usr/lib/swift/linux/libFoundation.so)\n",
      "Fetching https://github.com/mxcl/Path.swift\n",
      "Completed resolution in 2.99s\n",
      "Cloning https://github.com/mxcl/Path.swift\n",
      "Resolving https://github.com/mxcl/Path.swift at 0.16.2\n",
      "/home/martin/swift/usr/bin/swiftc: /home/martin/anaconda3/envs/swift/lib/libuuid.so.1: no version information available (required by /home/martin/swift/usr/bin/swiftc)\n",
      "Compile Swift Module 'Path' (9 sources)\n",
      "/home/martin/swift/usr/bin/swiftc: /home/martin/anaconda3/envs/swift/lib/libuuid.so.1: no version information available (required by /home/martin/swift/usr/bin/swiftc)\n",
      "\n",
      "/home/martin/swift/usr/bin/swift: /home/martin/anaconda3/envs/swift/lib/libuuid.so.1: no version information available (required by /home/martin/swift/usr/bin/swift)\n",
      "\n",
      "/home/martin/swift/usr/bin/swift: /home/martin/anaconda3/envs/swift/lib/libuuid.so.1: no version information available (required by /home/martin/swift/usr/bin/swift)\n",
      "\n",
      "/home/martin/swift/usr/bin/swift: /home/martin/anaconda3/envs/swift/lib/libuuid.so.1: no version information available (required by /home/martin/swift/usr/bin/swift)\n",
      "\n",
      "/home/martin/swift/usr/bin/swift: /home/martin/anaconda3/envs/swift/lib/libuuid.so.1: no version information available (required by /home/martin/swift/usr/bin/swift)\n",
      "\n",
      "/home/martin/swift/usr/bin/swift: /home/martin/anaconda3/envs/swift/lib/libuuid.so.1: no version information available (required by /home/martin/swift/usr/bin/swift)\n",
      "\n",
      "/home/martin/swift/usr/bin/swift: /home/martin/anaconda3/envs/swift/lib/libuuid.so.1: no version information available (required by /home/martin/swift/usr/bin/swift)\n",
      "\n",
      "/home/martin/swift/usr/bin/swift: /home/martin/anaconda3/envs/swift/lib/libuuid.so.1: no version information available (required by /home/martin/swift/usr/bin/swift)\n",
      "\n",
      "/home/martin/swift/usr/bin/swift: /home/martin/anaconda3/envs/swift/lib/libuuid.so.1: no version information available (required by /home/martin/swift/usr/bin/swift)\n",
      "\n",
      "/home/martin/swift/usr/bin/swift: /home/martin/anaconda3/envs/swift/lib/libuuid.so.1: no version information available (required by /home/martin/swift/usr/bin/swift)\n",
      "\n",
      "Compile Swift Module 'jupyterInstalledPackages' (1 sources)\n",
      "/home/martin/swift/usr/bin/swiftc: /home/martin/anaconda3/envs/swift/lib/libuuid.so.1: no version information available (required by /home/martin/swift/usr/bin/swiftc)\n",
      "\n",
      "/home/martin/swift/usr/bin/swift: /home/martin/anaconda3/envs/swift/lib/libuuid.so.1: no version information available (required by /home/martin/swift/usr/bin/swift)\n",
      "\n",
      "/home/martin/swift/usr/bin/swift: /home/martin/anaconda3/envs/swift/lib/libuuid.so.1: no version information available (required by /home/martin/swift/usr/bin/swift)\n",
      "\n",
      "Linking ./.build/x86_64-unknown-linux/debug/libjupyterInstalledPackages.so\n",
      "/home/martin/swift/usr/bin/swiftc: /home/martin/anaconda3/envs/swift/lib/libuuid.so.1: no version information available (required by /home/martin/swift/usr/bin/swiftc)\n",
      "\n",
      "/home/martin/swift/usr/bin/swift-autolink-extract: /home/martin/anaconda3/envs/swift/lib/libuuid.so.1: no version information available (required by /home/martin/swift/usr/bin/swift-autolink-extract)\n",
      "\n",
      "Initializing Swift...\n",
      "Installation complete!\n"
     ]
    }
   ],
   "source": [
    "%install '.package(url: \"https://github.com/mxcl/Path.swift\", from: \"0.16.1\")' Path"
   ]
  },
  {
   "cell_type": "code",
   "execution_count": 2,
   "metadata": {},
   "outputs": [],
   "source": [
    "import Path\n",
    "import Foundation"
   ]
  },
  {
   "cell_type": "markdown",
   "metadata": {},
   "source": [
    "# A Swift Tour - Playground 2 Notebook"
   ]
  },
  {
   "cell_type": "code",
   "execution_count": 3,
   "metadata": {},
   "outputs": [],
   "source": [
    "var path = Path.cwd/\"GuidedTour.playground/contents.xcplayground\""
   ]
  },
  {
   "cell_type": "code",
   "execution_count": 4,
   "metadata": {},
   "outputs": [],
   "source": [
    "var results : [String] = []"
   ]
  },
  {
   "cell_type": "markdown",
   "metadata": {},
   "source": [
    "# Parsing the XML\n",
    "\n",
    "Apparently, the xcode playground is defined in an xml format that looks sth like this:\n",
    "```\n",
    "<?xml version='1.0' encoding='UTF-8' standalone='yes'?>\n",
    "<playground version='6.0' target-platform='ios' display-mode='rendered'>\n",
    "   <pages>\n",
    "        <page name='Simple Values'/>\n",
    "        <page name='Control Flow'/>\n",
    "        <page name='Functions and Closures'/>\n",
    "        <page name='Objects and Classes'/>\n",
    "        <page name='Enumerations and Structures'/>\n",
    "        <page name='Protocols and Extensions'/>\n",
    "        <page name='Error Handling'/>\n",
    "        <page name='Generics'/>\n",
    "        <page name='License'/>\n",
    "    </pages>\n",
    "</playground>\n",
    "\n",
    "```\n",
    "So, we need to parse it! In Swift we can achieve this by creating an XMLParserDelegate to collect the page names.\n"
   ]
  },
  {
   "cell_type": "code",
   "execution_count": 5,
   "metadata": {},
   "outputs": [],
   "source": [
    "class MyParser: XMLParserDelegate {\n",
    "    \n",
    "    var pages: [String] = []\n",
    "    \n",
    "    func parser(_ parser: XMLParser, didStartElement elementName: String, namespaceURI: String?, qualifiedName qName: String?, attributes attributeDict: [String : String]) {\n",
    "        if elementName == \"page\" {\n",
    "            pages.append(attributeDict[\"name\"]!)\n",
    "        }\n",
    "    }\n",
    "}"
   ]
  },
  {
   "cell_type": "code",
   "execution_count": 6,
   "metadata": {},
   "outputs": [],
   "source": [
    "let delegate = MyParser()"
   ]
  },
  {
   "cell_type": "code",
   "execution_count": 7,
   "metadata": {},
   "outputs": [
    {
     "data": {
      "text/plain": [
       "▿ 9 elements\n",
       "  - 0 : \"Simple Values\"\n",
       "  - 1 : \"Control Flow\"\n",
       "  - 2 : \"Functions and Closures\"\n",
       "  - 3 : \"Objects and Classes\"\n",
       "  - 4 : \"Enumerations and Structures\"\n",
       "  - 5 : \"Protocols and Extensions\"\n",
       "  - 6 : \"Error Handling\"\n",
       "  - 7 : \"Generics\"\n",
       "  - 8 : \"License\"\n"
      ]
     },
     "execution_count": 7,
     "metadata": {},
     "output_type": "execute_result"
    }
   ],
   "source": [
    "let parser = XMLParser(contentsOf: path.url)\n",
    "parser?.delegate = delegate\n",
    "parser?.parse()\n",
    "delegate.pages"
   ]
  },
  {
   "cell_type": "markdown",
   "metadata": {},
   "source": [
    "Great! Now we have the pages. Let's grab them"
   ]
  },
  {
   "cell_type": "code",
   "execution_count": 8,
   "metadata": {},
   "outputs": [],
   "source": [
    "func adaptToNotebook(section: Dictionary<String, String>) -> Dictionary<String, Any> {\n",
    "    var newSection: Dictionary<String, Any> = [:]\n",
    "    for (k, v) in section {\n",
    "        newSection[k] = v\n",
    "    }\n",
    "    let emptyMeta: Dictionary<String,String> = [:]\n",
    "    newSection[\"metadata\"] = emptyMeta\n",
    "    if (section[\"cell_type\"]==\"code\") {\n",
    "        newSection[\"outputs\"] = Array<String>()\n",
    "        newSection[\"execution_count\"] = 0\n",
    "    }\n",
    "    return newSection\n",
    "}"
   ]
  },
  {
   "cell_type": "code",
   "execution_count": 9,
   "metadata": {},
   "outputs": [],
   "source": [
    "func parseLines(lines: [String]) -> Array<Dictionary<String, String>> {\n",
    "    var sections: Array<Dictionary<String,String>> = []\n",
    "    var curSection: Dictionary<String,String> = [:]\n",
    "    var ctxt: String = \"\"\n",
    "    func shouldStartNewSection(ctxt: String, line: String) -> Bool {\n",
    "        if (ctxt == \"\") {\n",
    "            return true\n",
    "        }\n",
    "        if (ctxt == \"markdown\" && !line.starts(with: \"//:\")) {\n",
    "            return true\n",
    "        }\n",
    "        if (ctxt == \"code\" && line.starts(with: \"//:\")) {\n",
    "            return true\n",
    "        }\n",
    "        return false;\n",
    "    }\n",
    "    func getLineContents(ctxt: String, line: String) -> String {\n",
    "        return ctxt == \"markdown\" ? line.substring(from: 3) : line\n",
    "    }\n",
    "    for line in lines.filter({!$0.isEmpty}) {\n",
    "        if shouldStartNewSection(ctxt: ctxt , line: line) {\n",
    "            if (!curSection.isEmpty) {\n",
    "                sections.append(curSection)\n",
    "            }\n",
    "            ctxt = line.starts(with: \"//:\") ? \"markdown\" : \"code\";\n",
    "            curSection = [\n",
    "                \"cell_type\": ctxt,\n",
    "                \"source\": \"\"\n",
    "            ]\n",
    "        }\n",
    "        curSection[\"source\"]? += getLineContents(ctxt: ctxt, line: line) + \"\\n\"\n",
    "    }\n",
    "    if (!curSection.isEmpty) {\n",
    "        sections.append(curSection)\n",
    "    }\n",
    "    return sections\n",
    "}"
   ]
  },
  {
   "cell_type": "code",
   "execution_count": 10,
   "metadata": {},
   "outputs": [
    {
     "ename": "",
     "evalue": "",
     "output_type": "error",
     "traceback": [
      "error: <Cell 10>:7:40: error: use of unresolved identifier 'NBAdapter'\n    let adaptedSections = sections.map(NBAdapter)\n                                       ^~~~~~~~~\n\n"
     ]
    }
   ],
   "source": [
    "for (i ,page) in delegate.pages.enumerated() {\n",
    "    let pagename = page + \".xcplaygroundpage\"\n",
    "    let fp = Path.cwd/\"GuidedTour.playground\"/\"Pages\"/pagename/\"Contents.swift\" \n",
    "    let pageContents = String.init(contentsOfFile: fp.description)\n",
    "    let lines = pageContents.components(separatedBy: \"\\n\")\n",
    "    let sections = parseLines(lines: lines)\n",
    "    let adaptedSections = sections.map(adaptToNotebook(sectio)\n",
    "    let notebook : Dictionary<String, Any> = [\"cells\": adaptedSections,\n",
    "                  \"metadata\": [\n",
    "                      \"kernelspec\": [\n",
    "                       \"display_name\": \"Swift\",\n",
    "                       \"language\": \"swift\",\n",
    "                       \"name\": \"swift\"\n",
    "                      ],\n",
    "                      \"language_info\": [\n",
    "                       \"file_extension\": \".swift\",\n",
    "                       \"mimetype\": \"text/x-swift\",\n",
    "                       \"name\": \"swift\",\n",
    "                       \"version\": \"\"\n",
    "                      ]\n",
    "                    ],\n",
    "                 \"nbformat\": 4,\n",
    "                 \"nbformat_minor\": 2\n",
    "    ]    \n",
    "    JSONSerialization.data(withJSONObject: notebook).write(to: (Path.cwd / \"notebooks\"/(String(i) + \" - \" + page+\".ipynb\")))\n",
    "}"
   ]
  },
  {
   "cell_type": "code",
   "execution_count": null,
   "metadata": {},
   "outputs": [],
   "source": []
  }
 ],
 "metadata": {
  "kernelspec": {
   "display_name": "Swift",
   "language": "swift",
   "name": "swift"
  },
  "language_info": {
   "file_extension": ".swift",
   "mimetype": "text/x-swift",
   "name": "swift",
   "version": ""
  }
 },
 "nbformat": 4,
 "nbformat_minor": 2
}
