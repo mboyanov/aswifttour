{
 "cells": [
  {
   "cell_type": "markdown",
   "metadata": {},
   "source": [
    " ## Control Flow\n",
    "\n",
    " Use `if` and `switch` to make conditionals, and use `for`-`in`, `while`, and `repeat`-`while` to make loops. Parentheses around the condition or loop variable are optional. Braces around the body are required.\n",
    "\n"
   ]
  },
  {
   "cell_type": "code",
   "execution_count": 1,
   "metadata": {},
   "outputs": [
    {
     "name": "stdout",
     "output_type": "stream",
     "text": [
      "11\r\n"
     ]
    }
   ],
   "source": [
    "let individualScores = [75, 43, 103, 87, 12]\n",
    "var teamScore = 0\n",
    "for score in individualScores {\n",
    "    if score > 50 {\n",
    "        teamScore += 3\n",
    "    } else {\n",
    "        teamScore += 1\n",
    "    }\n",
    "}\n",
    "print(teamScore)\n"
   ]
  },
  {
   "cell_type": "markdown",
   "metadata": {},
   "source": [
    " In an `if` statement, the conditional must be a Boolean expression—this means that code such as `if score { ... }` is an error, not an implicit comparison to zero.\n",
    "\n",
    " You can use `if` and `let` together to work with values that might be missing. These values are represented as optionals. An optional value either contains a value or contains `nil` to indicate that a value is missing. Write a question mark (`?`) after the type of a value to mark the value as optional.\n",
    "\n"
   ]
  },
  {
   "cell_type": "code",
   "execution_count": 2,
   "metadata": {},
   "outputs": [
    {
     "name": "stdout",
     "output_type": "stream",
     "text": [
      "false\r\n"
     ]
    }
   ],
   "source": [
    "var optionalString: String? = \"Hello\"\n",
    "print(optionalString == nil)\n",
    "var optionalName: String? = \"John Appleseed\"\n",
    "var greeting = \"Hello!\"\n",
    "if let name = optionalName {\n",
    "    greeting = \"Hello, \\(name)\"\n",
    "}\n"
   ]
  },
  {
   "cell_type": "markdown",
   "metadata": {},
   "source": [
    " - Experiment:\n",
    " Change `optionalName` to `nil`. What greeting do you get? Add an `else` clause that sets a different greeting if `optionalName` is `nil`.\n",
    "\n",
    " If the optional value is `nil`, the conditional is `false` and the code in braces is skipped. Otherwise, the optional value is unwrapped and assigned to the constant after `let`, which makes the unwrapped value available inside the block of code.\n",
    "\n",
    " Another way to handle optional values is to provide a default value using the `??` operator. If the optional value is missing, the default value is used instead.\n",
    "\n"
   ]
  },
  {
   "cell_type": "code",
   "execution_count": 3,
   "metadata": {},
   "outputs": [],
   "source": [
    "let nickName: String? = nil\n",
    "let fullName: String = \"John Appleseed\"\n",
    "let informalGreeting = \"Hi \\(nickName ?? fullName)\"\n"
   ]
  },
  {
   "cell_type": "markdown",
   "metadata": {},
   "source": [
    " Switches support any kind of data and a wide variety of comparison operations—they aren’t limited to integers and tests for equality.\n",
    "\n"
   ]
  },
  {
   "cell_type": "code",
   "execution_count": 4,
   "metadata": {},
   "outputs": [
    {
     "name": "stdout",
     "output_type": "stream",
     "text": [
      "Is it a spicy red pepper?\r\n"
     ]
    }
   ],
   "source": [
    "let vegetable = \"red pepper\"\n",
    "switch vegetable {\n",
    "    case \"celery\":\n",
    "        print(\"Add some raisins and make ants on a log.\")\n",
    "    case \"cucumber\", \"watercress\":\n",
    "        print(\"That would make a good tea sandwich.\")\n",
    "    case let x where x.hasSuffix(\"pepper\"):\n",
    "        print(\"Is it a spicy \\(x)?\")\n",
    "    default:\n",
    "        print(\"Everything tastes good in soup.\")\n",
    "}\n"
   ]
  },
  {
   "cell_type": "markdown",
   "metadata": {},
   "source": [
    " - Experiment:\n",
    " Try removing the default case. What error do you get?\n",
    "\n",
    " Notice how `let` can be used in a pattern to assign the value that matched the pattern to a constant.\n",
    "\n",
    " After executing the code inside the switch case that matched, the program exits from the switch statement. Execution doesn’t continue to the next case, so there is no need to explicitly break out of the switch at the end of each case’s code.\n",
    "\n",
    " You use `for`-`in` to iterate over items in a dictionary by providing a pair of names to use for each key-value pair. Dictionaries are an unordered collection, so their keys and values are iterated over in an arbitrary order.\n",
    "\n"
   ]
  },
  {
   "cell_type": "code",
   "execution_count": 5,
   "metadata": {},
   "outputs": [
    {
     "name": "stdout",
     "output_type": "stream",
     "text": [
      "25\r\n"
     ]
    }
   ],
   "source": [
    "let interestingNumbers = [\n",
    "    \"Prime\": [2, 3, 5, 7, 11, 13],\n",
    "    \"Fibonacci\": [1, 1, 2, 3, 5, 8],\n",
    "    \"Square\": [1, 4, 9, 16, 25],\n",
    "]\n",
    "var largest = 0\n",
    "for (kind, numbers) in interestingNumbers {\n",
    "    for number in numbers {\n",
    "        if number > largest {\n",
    "            largest = number\n",
    "        }\n",
    "    }\n",
    "}\n",
    "print(largest)\n"
   ]
  },
  {
   "cell_type": "markdown",
   "metadata": {},
   "source": [
    " - Experiment:\n",
    " Add another variable to keep track of which kind of number was the largest, as well as what that largest number was.\n",
    "\n",
    " Use `while` to repeat a block of code until a condition changes. The condition of a loop can be at the end instead, ensuring that the loop is run at least once.\n",
    "\n"
   ]
  },
  {
   "cell_type": "code",
   "execution_count": 6,
   "metadata": {},
   "outputs": [
    {
     "name": "stdout",
     "output_type": "stream",
     "text": [
      "128\r\n",
      "128\r\n"
     ]
    }
   ],
   "source": [
    "var n = 2\n",
    "while n < 100 {\n",
    "    n *= 2\n",
    "}\n",
    "print(n)\n",
    "var m = 2\n",
    "repeat {\n",
    "    m *= 2\n",
    "} while m < 100\n",
    "print(m)\n"
   ]
  },
  {
   "cell_type": "markdown",
   "metadata": {},
   "source": [
    " You can keep an index in a loop by using `..<` to make a range of indexes.\n",
    "\n"
   ]
  },
  {
   "cell_type": "code",
   "execution_count": 7,
   "metadata": {},
   "outputs": [
    {
     "name": "stdout",
     "output_type": "stream",
     "text": [
      "6\r\n"
     ]
    }
   ],
   "source": [
    "var total = 0\n",
    "for i in 0..<4 {\n",
    "    total += i\n",
    "}\n",
    "print(total)\n"
   ]
  },
  {
   "cell_type": "code",
   "execution_count": null,
   "metadata": {},
   "outputs": [],
   "source": []
  },
  {
   "cell_type": "code",
   "execution_count": null,
   "metadata": {},
   "outputs": [],
   "source": []
  }
 ],
 "metadata": {
  "kernelspec": {
   "display_name": "Swift",
   "language": "swift",
   "name": "swift"
  },
  "language_info": {
   "file_extension": ".swift",
   "mimetype": "text/x-swift",
   "name": "swift",
   "version": ""
  }
 },
 "nbformat": 4,
 "nbformat_minor": 2
}
