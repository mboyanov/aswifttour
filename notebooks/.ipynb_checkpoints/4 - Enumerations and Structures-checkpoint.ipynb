{
 "cells": [
  {
   "cell_type": "markdown",
   "metadata": {},
   "source": [
    " ## Enumerations and Structures\n",
    "\n",
    " Use `enum` to create an enumeration. Like classes and all other named types, enumerations can have methods associated with them.\n",
    "\n"
   ]
  },
  {
   "cell_type": "code",
   "execution_count": 1,
   "metadata": {},
   "outputs": [],
   "source": [
    "enum Rank: Int {\n",
    "    case ace = 1\n",
    "    case two, three, four, five, six, seven, eight, nine, ten\n",
    "    case jack, queen, king\n",
    "    func simpleDescription() -> String {\n",
    "        switch self {\n",
    "            case .ace:\n",
    "                return \"ace\"\n",
    "            case .jack:\n",
    "                return \"jack\"\n",
    "            case .queen:\n",
    "                return \"queen\"\n",
    "            case .king:\n",
    "                return \"king\"\n",
    "            default:\n",
    "                return String(self.rawValue)\n",
    "        }\n",
    "    }\n",
    "}\n",
    "let ace = Rank.ace\n",
    "let aceRawValue = ace.rawValue\n"
   ]
  },
  {
   "cell_type": "markdown",
   "metadata": {},
   "source": [
    " - Experiment:\n",
    " Write a function that compares two `Rank` values by comparing their raw values.\n",
    "\n",
    " By default, Swift assigns the raw values starting at zero and incrementing by one each time, but you can change this behavior by explicitly specifying values. In the example above, `Ace` is explicitly given a raw value of `1`, and the rest of the raw values are assigned in order. You can also use strings or floating-point numbers as the raw type of an enumeration. Use the `rawValue` property to access the raw value of an enumeration case.\n",
    "\n",
    " Use the `init?(rawValue:)` initializer to make an instance of an enumeration from a raw value. It returns either the enumeration case matching the raw value or `nil` if there is no matching `Rank`.\n",
    "\n"
   ]
  },
  {
   "cell_type": "code",
   "execution_count": 2,
   "metadata": {},
   "outputs": [],
   "source": [
    "if let convertedRank = Rank(rawValue: 3) {\n",
    "    let threeDescription = convertedRank.simpleDescription()\n",
    "}\n"
   ]
  },
  {
   "cell_type": "markdown",
   "metadata": {},
   "source": [
    " The case values of an enumeration are actual values, not just another way of writing their raw values. In fact, in cases where there isn’t a meaningful raw value, you don’t have to provide one.\n",
    "\n"
   ]
  },
  {
   "cell_type": "code",
   "execution_count": 3,
   "metadata": {},
   "outputs": [],
   "source": [
    "enum Suit {\n",
    "    case spades, hearts, diamonds, clubs\n",
    "    func simpleDescription() -> String {\n",
    "        switch self {\n",
    "            case .spades:\n",
    "                return \"spades\"\n",
    "            case .hearts:\n",
    "                return \"hearts\"\n",
    "            case .diamonds:\n",
    "                return \"diamonds\"\n",
    "            case .clubs:\n",
    "                return \"clubs\"\n",
    "        }\n",
    "    }\n",
    "}\n",
    "let hearts = Suit.hearts\n",
    "let heartsDescription = hearts.simpleDescription()\n"
   ]
  },
  {
   "cell_type": "markdown",
   "metadata": {},
   "source": [
    " - Experiment:\n",
    " Add a `color()` method to `Suit` that returns “black” for spades and clubs, and returns “red” for hearts and diamonds.\n",
    "\n",
    " Notice the two ways that the `hearts` case of the enumeration is referred to above: When assigning a value to the `hearts` constant, the enumeration case `Suit.hearts` is referred to by its full name because the constant doesn’t have an explicit type specified. Inside the switch, the enumeration case is referred to by the abbreviated form `.hearts` because the value of `self` is already known to be a suit. You can use the abbreviated form anytime the value’s type is already known.\n",
    "\n",
    " If an enumeration has raw values, those values are determined as part of the declaration, which means every instance of a particular enumeration case always has the same raw value. Another choice for enumeration cases is to have values associated with the case—these values are determined when you make the instance, and they can be different for each instance of an enumeration case. You can think of the associated values as behaving like stored properties of the enumeration case instance. For example, consider the case of requesting the sunrise and sunset times from a server. The server either responds with the requested information, or it responds with a description of what went wrong.\n",
    "\n"
   ]
  },
  {
   "cell_type": "code",
   "execution_count": 4,
   "metadata": {},
   "outputs": [
    {
     "name": "stdout",
     "output_type": "stream",
     "text": [
      "Sunrise is at 6:00 am and sunset is at 8:09 pm.\r\n"
     ]
    }
   ],
   "source": [
    "enum ServerResponse {\n",
    "    case result(String, String)\n",
    "    case failure(String)\n",
    "}\n",
    "let success = ServerResponse.result(\"6:00 am\", \"8:09 pm\")\n",
    "let failure = ServerResponse.failure(\"Out of cheese.\")\n",
    "switch success {\n",
    "    case let .result(sunrise, sunset):\n",
    "        print(\"Sunrise is at \\(sunrise) and sunset is at \\(sunset).\")\n",
    "    case let .failure(message):\n",
    "        print(\"Failure...  \\(message)\")\n",
    "}\n"
   ]
  },
  {
   "cell_type": "markdown",
   "metadata": {},
   "source": [
    " - Experiment:\n",
    " Add a third case to `ServerResponse` and to the switch.\n",
    "\n",
    " Notice how the sunrise and sunset times are extracted from the `ServerResponse` value as part of matching the value against the switch cases.\n",
    "\n",
    " Use `struct` to create a structure. Structures support many of the same behaviors as classes, including methods and initializers. One of the most important differences between structures and classes is that structures are always copied when they are passed around in your code, but classes are passed by reference.\n",
    "\n"
   ]
  },
  {
   "cell_type": "code",
   "execution_count": 5,
   "metadata": {},
   "outputs": [],
   "source": [
    "struct Card {\n",
    "    var rank: Rank\n",
    "    var suit: Suit\n",
    "    func simpleDescription() -> String {\n",
    "        return \"The \\(rank.simpleDescription()) of \\(suit.simpleDescription())\"\n",
    "    }\n",
    "}\n",
    "let threeOfSpades = Card(rank: .three, suit: .spades)\n",
    "let threeOfSpadesDescription = threeOfSpades.simpleDescription()\n"
   ]
  },
  {
   "cell_type": "code",
   "execution_count": null,
   "metadata": {},
   "outputs": [],
   "source": []
  },
  {
   "cell_type": "code",
   "execution_count": null,
   "metadata": {},
   "outputs": [],
   "source": []
  },
  {
   "cell_type": "code",
   "execution_count": null,
   "metadata": {},
   "outputs": [],
   "source": []
  }
 ],
 "metadata": {
  "kernelspec": {
   "display_name": "Swift",
   "language": "swift",
   "name": "swift"
  },
  "language_info": {
   "file_extension": ".swift",
   "mimetype": "text/x-swift",
   "name": "swift",
   "version": ""
  }
 },
 "nbformat": 4,
 "nbformat_minor": 2
}
