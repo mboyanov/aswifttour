{
 "cells": [
  {
   "cell_type": "markdown",
   "metadata": {},
   "source": [
    " ## Protocols and Extensions\n",
    "\n",
    " Use `protocol` to declare a protocol.\n",
    "\n"
   ]
  },
  {
   "cell_type": "code",
   "execution_count": 1,
   "metadata": {},
   "outputs": [],
   "source": [
    "protocol ExampleProtocol {\n",
    "     var simpleDescription: String { get }\n",
    "     mutating func adjust()\n",
    "}\n"
   ]
  },
  {
   "cell_type": "markdown",
   "metadata": {},
   "source": [
    " Classes, enumerations, and structs can all adopt protocols.\n",
    "\n"
   ]
  },
  {
   "cell_type": "code",
   "execution_count": 2,
   "metadata": {},
   "outputs": [],
   "source": [
    "class SimpleClass: ExampleProtocol {\n",
    "     var simpleDescription: String = \"A very simple class.\"\n",
    "     var anotherProperty: Int = 69105\n",
    "     func adjust() {\n",
    "          simpleDescription += \"  Now 100% adjusted.\"\n",
    "     }\n",
    "}\n",
    "var a = SimpleClass()\n",
    "a.adjust()\n",
    "let aDescription = a.simpleDescription\n",
    "struct SimpleStructure: ExampleProtocol {\n",
    "     var simpleDescription: String = \"A simple structure\"\n",
    "     mutating func adjust() {\n",
    "          simpleDescription += \" (adjusted)\"\n",
    "     }\n",
    "}\n",
    "var b = SimpleStructure()\n",
    "b.adjust()\n",
    "let bDescription = b.simpleDescription\n"
   ]
  },
  {
   "cell_type": "code",
   "execution_count": 5,
   "metadata": {},
   "outputs": [
    {
     "data": {
      "text/plain": [
       "\"A very simple class.  Now 100% adjusted.\"\n"
      ]
     },
     "execution_count": 5,
     "metadata": {},
     "output_type": "execute_result"
    }
   ],
   "source": [
    "aDescription"
   ]
  },
  {
   "cell_type": "markdown",
   "metadata": {},
   "source": [
    " - Experiment:\n",
    " Add another requirement to `ExampleProtocol`. What changes do you need to make to `SimpleClass` and `SimpleStructure` so that they still conform to the protocol?\n",
    "\n",
    " Notice the use of the `mutating` keyword in the declaration of `SimpleStructure` to mark a method that modifies the structure. The declaration of `SimpleClass` doesn’t need any of its methods marked as mutating because methods on a class can always modify the class.\n",
    "\n",
    " Use `extension` to add functionality to an existing type, such as new methods and computed properties. You can use an extension to add protocol conformance to a type that is declared elsewhere, or even to a type that you imported from a library or framework.\n",
    "\n"
   ]
  },
  {
   "cell_type": "code",
   "execution_count": 0,
   "metadata": {},
   "outputs": [],
   "source": [
    "extension Int: ExampleProtocol {\n",
    "    var simpleDescription: String {\n",
    "        return \"The number \\(self)\"\n",
    "    }\n",
    "    mutating func adjust() {\n",
    "        self += 42\n",
    "    }\n",
    " }\n",
    "print(7.simpleDescription)\n"
   ]
  },
  {
   "cell_type": "markdown",
   "metadata": {},
   "source": [
    " - Experiment:\n",
    " Write an extension for the `Double` type that adds an `absoluteValue` property.\n",
    "\n",
    " You can use a protocol name just like any other named type—for example, to create a collection of objects that have different types but that all conform to a single protocol. When you work with values whose type is a protocol type, methods outside the protocol definition are not available.\n",
    "\n"
   ]
  },
  {
   "cell_type": "code",
   "execution_count": 0,
   "metadata": {},
   "outputs": [],
   "source": [
    "let protocolValue: ExampleProtocol = a\n",
    "print(protocolValue.simpleDescription)\n",
    "// print(protocolValue.anotherProperty)  // Uncomment to see the error\n"
   ]
  }
 ],
 "metadata": {
  "kernelspec": {
   "display_name": "Swift",
   "language": "swift",
   "name": "swift"
  },
  "language_info": {
   "file_extension": ".swift",
   "mimetype": "text/x-swift",
   "name": "swift",
   "version": ""
  }
 },
 "nbformat": 4,
 "nbformat_minor": 2
}
