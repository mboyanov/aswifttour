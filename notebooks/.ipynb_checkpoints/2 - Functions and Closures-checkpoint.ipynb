{
 "cells": [
  {
   "cell_type": "markdown",
   "metadata": {},
   "source": [
    " ## Functions and Closures\n",
    "\n",
    " Use `func` to declare a function. Call a function by following its name with a list of arguments in parentheses. Use `->` to separate the parameter names and types from the function’s return type.\n",
    "\n"
   ]
  },
  {
   "cell_type": "code",
   "execution_count": 1,
   "metadata": {},
   "outputs": [
    {
     "data": {
      "text/plain": [
       "\"Hello Bob, today is Tuesday.\"\n"
      ]
     },
     "execution_count": 1,
     "metadata": {},
     "output_type": "execute_result"
    }
   ],
   "source": [
    "func greet(person: String, day: String) -> String {\n",
    "    return \"Hello \\(person), today is \\(day).\"\n",
    "}\n",
    "greet(person: \"Bob\", day: \"Tuesday\")\n"
   ]
  },
  {
   "cell_type": "markdown",
   "metadata": {},
   "source": [
    " - Experiment:\n",
    " Remove the `day` parameter. Add a parameter to include today’s lunch special in the greeting.\n",
    "\n",
    " By default, functions use their parameter names as labels for their arguments. Write a custom argument label before the parameter name, or write `_` to use no argument label.\n",
    "\n"
   ]
  },
  {
   "cell_type": "code",
   "execution_count": 2,
   "metadata": {},
   "outputs": [
    {
     "data": {
      "text/plain": [
       "\"Hello John, today is Wednesday.\"\n"
      ]
     },
     "execution_count": 2,
     "metadata": {},
     "output_type": "execute_result"
    }
   ],
   "source": [
    "func greet(_ person: String, on day: String) -> String {\n",
    "    return \"Hello \\(person), today is \\(day).\"\n",
    "}\n",
    "greet(\"John\", on: \"Wednesday\")\n"
   ]
  },
  {
   "cell_type": "markdown",
   "metadata": {},
   "source": [
    " Use a tuple to make a compound value—for example, to return multiple values from a function. The elements of a tuple can be referred to either by name or by number.\n",
    "\n"
   ]
  },
  {
   "cell_type": "code",
   "execution_count": 3,
   "metadata": {},
   "outputs": [
    {
     "name": "stdout",
     "output_type": "stream",
     "text": [
      "120\r\n",
      "120\r\n"
     ]
    }
   ],
   "source": [
    "func calculateStatistics(scores: [Int]) -> (min: Int, max: Int, sum: Int) {\n",
    "    var min = scores[0]\n",
    "    var max = scores[0]\n",
    "    var sum = 0\n",
    "    for score in scores {\n",
    "        if score > max {\n",
    "            max = score\n",
    "        } else if score < min {\n",
    "            min = score\n",
    "        }\n",
    "        sum += score\n",
    "    }\n",
    "    return (min, max, sum)\n",
    "}\n",
    "let statistics = calculateStatistics(scores: [5, 3, 100, 3, 9])\n",
    "print(statistics.sum)\n",
    "print(statistics.2)\n"
   ]
  },
  {
   "cell_type": "markdown",
   "metadata": {},
   "source": [
    " Functions can be nested. Nested functions have access to variables that were declared in the outer function. You can use nested functions to organize the code in a function that is long or complex.\n",
    "\n"
   ]
  },
  {
   "cell_type": "code",
   "execution_count": 4,
   "metadata": {},
   "outputs": [
    {
     "data": {
      "text/plain": [
       "15\n"
      ]
     },
     "execution_count": 4,
     "metadata": {},
     "output_type": "execute_result"
    }
   ],
   "source": [
    "func returnFifteen() -> Int {\n",
    "    var y = 10\n",
    "    func add() {\n",
    "        y += 5\n",
    "    }\n",
    "    add()\n",
    "    return y\n",
    "}\n",
    "returnFifteen()\n"
   ]
  },
  {
   "cell_type": "markdown",
   "metadata": {},
   "source": [
    " Functions are a first-class type. This means that a function can return another function as its value.\n",
    "\n"
   ]
  },
  {
   "cell_type": "code",
   "execution_count": 5,
   "metadata": {},
   "outputs": [
    {
     "data": {
      "text/plain": [
       "8\n"
      ]
     },
     "execution_count": 5,
     "metadata": {},
     "output_type": "execute_result"
    }
   ],
   "source": [
    "func makeIncrementer() -> ((Int) -> Int) {\n",
    "    func addOne(number: Int) -> Int {\n",
    "        return 1 + number\n",
    "    }\n",
    "    return addOne\n",
    "}\n",
    "var increment = makeIncrementer()\n",
    "increment(7)\n"
   ]
  },
  {
   "cell_type": "markdown",
   "metadata": {},
   "source": [
    " A function can take another function as one of its arguments.\n",
    "\n"
   ]
  },
  {
   "cell_type": "code",
   "execution_count": 6,
   "metadata": {},
   "outputs": [
    {
     "data": {
      "text/plain": [
       "true\n"
      ]
     },
     "execution_count": 6,
     "metadata": {},
     "output_type": "execute_result"
    }
   ],
   "source": [
    "func hasAnyMatches(list: [Int], condition: (Int) -> Bool) -> Bool {\n",
    "    for item in list {\n",
    "        if condition(item) {\n",
    "            return true\n",
    "        }\n",
    "    }\n",
    "    return false\n",
    "}\n",
    "func lessThanTen(number: Int) -> Bool {\n",
    "    return number < 10\n",
    "}\n",
    "var numbers = [20, 19, 7, 12]\n",
    "hasAnyMatches(list: numbers, condition: lessThanTen)\n"
   ]
  },
  {
   "cell_type": "markdown",
   "metadata": {},
   "source": [
    " Functions are actually a special case of closures: blocks of code that can be called later. The code in a closure has access to things like variables and functions that were available in the scope where the closure was created, even if the closure is in a different scope when it is executed—you saw an example of this already with nested functions. You can write a closure without a name by surrounding code with braces (`{}`). Use `in` to separate the arguments and return type from the body.\n",
    "\n"
   ]
  },
  {
   "cell_type": "code",
   "execution_count": 7,
   "metadata": {},
   "outputs": [
    {
     "data": {
      "text/plain": [
       "▿ 4 elements\n",
       "  - 0 : 60\n",
       "  - 1 : 57\n",
       "  - 2 : 21\n",
       "  - 3 : 36\n"
      ]
     },
     "execution_count": 7,
     "metadata": {},
     "output_type": "execute_result"
    }
   ],
   "source": [
    "numbers.map({ (number: Int) -> Int in\n",
    "    let result = 3 * number\n",
    "    return result\n",
    "})\n"
   ]
  },
  {
   "cell_type": "markdown",
   "metadata": {},
   "source": [
    " - Experiment:\n",
    " Rewrite the closure to return zero for all odd numbers.\n",
    "\n",
    " You have several options for writing closures more concisely. When a closure’s type is already known, such as the callback for a delegate, you can omit the type of its parameters, its return type, or both. Single statement closures implicitly return the value of their only statement.\n",
    "\n"
   ]
  },
  {
   "cell_type": "code",
   "execution_count": 8,
   "metadata": {},
   "outputs": [
    {
     "name": "stdout",
     "output_type": "stream",
     "text": [
      "[60, 57, 21, 36]\r\n"
     ]
    }
   ],
   "source": [
    "let mappedNumbers = numbers.map({ number in 3 * number })\n",
    "print(mappedNumbers)\n"
   ]
  },
  {
   "cell_type": "markdown",
   "metadata": {},
   "source": [
    " You can refer to parameters by number instead of by name—this approach is especially useful in very short closures. A closure passed as the last argument to a function can appear immediately after the parentheses. When a closure is the only argument to a function, you can omit the parentheses entirely.\n",
    "\n"
   ]
  },
  {
   "cell_type": "code",
   "execution_count": 9,
   "metadata": {},
   "outputs": [
    {
     "name": "stdout",
     "output_type": "stream",
     "text": [
      "[20, 19, 12, 7]\r\n"
     ]
    }
   ],
   "source": [
    "let sortedNumbers = numbers.sorted { $0 > $1 }\n",
    "print(sortedNumbers)\n"
   ]
  },
  {
   "cell_type": "code",
   "execution_count": null,
   "metadata": {},
   "outputs": [],
   "source": []
  }
 ],
 "metadata": {
  "kernelspec": {
   "display_name": "Swift",
   "language": "swift",
   "name": "swift"
  },
  "language_info": {
   "file_extension": ".swift",
   "mimetype": "text/x-swift",
   "name": "swift",
   "version": ""
  }
 },
 "nbformat": 4,
 "nbformat_minor": 2
}
